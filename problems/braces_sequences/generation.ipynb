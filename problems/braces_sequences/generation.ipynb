{
 "cells": [
  {
   "cell_type": "code",
   "execution_count": 9,
   "metadata": {},
   "outputs": [],
   "source": [
    "def f(n, arr):\n",
    "    yield arr\n",
    "    while True:\n",
    "        ind = n-1\n",
    "        cnt = 0\n",
    "        # находим откр. скобку, которую можно заменить\n",
    "        while ind>=0:\n",
    "            if arr[ind] == ')':\n",
    "                cnt -= 1\n",
    "            if arr[ind] == '(':\n",
    "                cnt += 1\n",
    "            if cnt < 0 and arr[ind] =='(':\n",
    "                break\n",
    "            ind -= 1\n",
    "        # если не нашли, то алгоритм заканчивает работу\n",
    "        if ind < 0:\n",
    "            break\n",
    "        # заменяем на закр. скобку\n",
    "        arr[ind] = ')'\n",
    "        # заменяем на самую лексикографическую минимальную\n",
    "        for i in range(ind+1,n):\n",
    "            if i <= (n-ind+cnt)/2 +ind:\n",
    "                arr[i] = '('\n",
    "            else:\n",
    "                arr[i] = ')'\n",
    "        yield arr"
   ]
  },
  {
   "cell_type": "code",
   "execution_count": 14,
   "metadata": {},
   "outputs": [],
   "source": [
    "import time\n",
    "def measure_time(func, *args, **kwargs):\n",
    "    start = time.time()\n",
    "    result = func(*args, **kwargs)\n",
    "    return result, time.time() - start"
   ]
  },
  {
   "cell_type": "code",
   "execution_count": 15,
   "metadata": {},
   "outputs": [],
   "source": [
    "n = 24\n",
    "arr = ['(' for  _ in range(n//2)] + [')' for _ in range(n//2)]"
   ]
  },
  {
   "cell_type": "code",
   "execution_count": 16,
   "metadata": {},
   "outputs": [
    {
     "data": {
      "text/plain": [
       "(208012, 0.449023962020874)"
      ]
     },
     "execution_count": 16,
     "metadata": {},
     "output_type": "execute_result"
    }
   ],
   "source": [
    "def iterate(gen):\n",
    "    num = 0\n",
    "    for i in gen:\n",
    "        num += 1\n",
    "    return num\n",
    "\n",
    "measure_time(lambda: iterate(f(n, arr)))"
   ]
  },
  {
   "cell_type": "code",
   "execution_count": null,
   "metadata": {},
   "outputs": [],
   "source": [
    "class BraceInfo:\n",
    "    def __init__(self, n_open)"
   ]
  }
 ],
 "metadata": {
  "kernelspec": {
   "display_name": "Python 3",
   "language": "python",
   "name": "python3"
  },
  "language_info": {
   "codemirror_mode": {
    "name": "ipython",
    "version": 3
   },
   "file_extension": ".py",
   "mimetype": "text/x-python",
   "name": "python",
   "nbconvert_exporter": "python",
   "pygments_lexer": "ipython3",
   "version": "3.7.5"
  }
 },
 "nbformat": 4,
 "nbformat_minor": 2
}
