{
 "cells": [
  {
   "cell_type": "code",
   "execution_count": 14,
   "metadata": {},
   "outputs": [],
   "source": [
    "import matplotlib.pyplot as plt\n",
    "%matplotlib inline"
   ]
  },
  {
   "cell_type": "code",
   "execution_count": 104,
   "metadata": {},
   "outputs": [],
   "source": [
    "import random"
   ]
  },
  {
   "cell_type": "code",
   "execution_count": 199,
   "metadata": {},
   "outputs": [],
   "source": [
    "class BSTNode:\n",
    "    def __init__(self, parent=None):\n",
    "        self.value = None\n",
    "        self.parent = parent\n",
    "        self.left = None\n",
    "        self.right = None\n",
    "        \n",
    "    def insert(self, value):\n",
    "        \"\"\"Plain BST-like insert\"\"\"\n",
    "\n",
    "        if self.value == value:\n",
    "            return self\n",
    "        \n",
    "        if self.value is None:\n",
    "            self.value = value\n",
    "            self.left = Node(parent=self)\n",
    "            self.right = Node(parent=self)\n",
    "            return self\n",
    "\n",
    "        next_node = self.right if self.value < value else self.left\n",
    "        return next_node.insert(value)\n",
    "    \n",
    "    def is_root(self) -> bool:\n",
    "        return self.parent is None\n",
    "\n",
    "    def is_right(self) -> bool:\n",
    "        assert not self.is_root()\n",
    "        return self.parent.right == self\n",
    "    \n",
    "    def is_left(self) -> bool:\n",
    "        assert not self.is_root()\n",
    "        return self.parent.left == self\n",
    "    \n",
    "    def height(self):\n",
    "        if self.value is None:\n",
    "            return 0\n",
    "        return 1 + max(self.left.height(), self.right.height())\n",
    "    \n",
    "    def grandparent(self):\n",
    "        assert (self.parent is not None) and \\\n",
    "               (self.parent.parent is not None)\n",
    "        return self.parent.parent\n",
    "\n",
    "    def uncle(self):\n",
    "        if self.grandparent().left == self.parent:\n",
    "            return self.grandparent().right\n",
    "        else:\n",
    "            return self.grandparent().left\n",
    "\n",
    "    def right_rotate(self):\n",
    "        previuous_left = self.left\n",
    "        previuous_left.parent = self.parent\n",
    "        self.left = previuous_left.right\n",
    "        self.parent = previuos_left\n",
    "        previuos_left.right = self\n",
    "        \n",
    "    def left_rotate(self):\n",
    "        previuous_right = self.right\n",
    "        previuous_right.parent = self.parent\n",
    "        self.right = previuous_right.left\n",
    "        self.parent = previuos_right\n",
    "        previuos_right.left = self\n",
    "        \n",
    "    def __iter__(self):\n",
    "        def iter_nodes():\n",
    "            "
   ]
  },
  {
   "cell_type": "code",
   "execution_count": null,
   "metadata": {},
   "outputs": [],
   "source": [
    "class Node:\n",
    "#     def __init__(self, parent=None):\n",
    "#         self.value = None\n",
    "#         self.color = 'black'\n",
    "#         self.parent = parent\n",
    "#         self.left = None\n",
    "#         self.right = None\n",
    "        \n",
    "#     def insert(self, value):\n",
    "#         new_node = self._insert(value)\n",
    "#         new_node.color = 'red'\n",
    "#         new_node.balance()\n",
    "#         return new_node\n",
    "        \n",
    "#     def _insert(self, value):\n",
    "#         \"\"\"Plain BST-like insert\"\"\"\n",
    "\n",
    "#         if self.value == value:\n",
    "#             return self\n",
    "        \n",
    "#         if self.value is None:\n",
    "#             self.value = value\n",
    "#             self.left = Node(parent=self)\n",
    "#             self.right = Node(parent=self)\n",
    "#             return self\n",
    "\n",
    "#         next_node = self.right if self.value < value else self.left\n",
    "#         return next_node._insert(value)\n",
    "        \n",
    "#     def balance(self):\n",
    "#         if self.is_root():\n",
    "#             self.color = 'black'\n",
    "#             return\n",
    "\n",
    "#         if not (self.color == self.parent.color == 'red'):\n",
    "#             return\n",
    "        \n",
    "#         # Here we have checked that both this node\n",
    "#         # and it's parent are red.\n",
    "#         # Since root is never red, this node has a grandparent\n",
    "#         assert self.grandparent().color == 'black'\n",
    "        \n",
    "#         if self.uncle().color == 'red':\n",
    "#             self.grandparent().recolor()\n",
    "#             return\n",
    "        \n",
    "#         if \n",
    "        \n",
    "#     def recolor(self):\n",
    "#         \"\"\"Recolor node to red and its children to black\"\"\"\n",
    "#         assert self.color == 'black'\n",
    "#         assert self.left.color == self.right.color == 'red'\n",
    "        \n",
    "#         self.color = 'red'\n",
    "#         self.left.color = 'black'\n",
    "#         self.right.color = 'black'\n",
    "#         self.balance()\n",
    "    \n",
    "   "
   ]
  },
  {
   "cell_type": "code",
   "execution_count": 200,
   "metadata": {},
   "outputs": [],
   "source": [
    "tree = BSTNode()"
   ]
  },
  {
   "cell_type": "code",
   "execution_count": 201,
   "metadata": {},
   "outputs": [
    {
     "ename": "AttributeError",
     "evalue": "'BSTNode' object has no attribute 'color'",
     "output_type": "error",
     "traceback": [
      "\u001b[0;31m---------------------------------------------------------------------------\u001b[0m",
      "\u001b[0;31mAttributeError\u001b[0m                            Traceback (most recent call last)",
      "\u001b[0;32m<ipython-input-201-da773f8d9bff>\u001b[0m in \u001b[0;36m<module>\u001b[0;34m\u001b[0m\n\u001b[1;32m      1\u001b[0m \u001b[0;32mfor\u001b[0m \u001b[0mi\u001b[0m \u001b[0;32min\u001b[0m \u001b[0mrange\u001b[0m\u001b[0;34m(\u001b[0m\u001b[0;36m15\u001b[0m\u001b[0;34m)\u001b[0m\u001b[0;34m:\u001b[0m\u001b[0;34m\u001b[0m\u001b[0;34m\u001b[0m\u001b[0m\n\u001b[0;32m----> 2\u001b[0;31m     \u001b[0mtree\u001b[0m\u001b[0;34m.\u001b[0m\u001b[0minsert\u001b[0m\u001b[0;34m(\u001b[0m\u001b[0mrandom\u001b[0m\u001b[0;34m.\u001b[0m\u001b[0mrandint\u001b[0m\u001b[0;34m(\u001b[0m\u001b[0;36m0\u001b[0m\u001b[0;34m,\u001b[0m \u001b[0;36m10000\u001b[0m\u001b[0;34m)\u001b[0m\u001b[0;34m)\u001b[0m\u001b[0;34m\u001b[0m\u001b[0;34m\u001b[0m\u001b[0m\n\u001b[0m",
      "\u001b[0;32m<ipython-input-199-efd925cabb8c>\u001b[0m in \u001b[0;36minsert\u001b[0;34m(self, value)\u001b[0m\n\u001b[1;32m     19\u001b[0m \u001b[0;34m\u001b[0m\u001b[0m\n\u001b[1;32m     20\u001b[0m         \u001b[0mnext_node\u001b[0m \u001b[0;34m=\u001b[0m \u001b[0mself\u001b[0m\u001b[0;34m.\u001b[0m\u001b[0mright\u001b[0m \u001b[0;32mif\u001b[0m \u001b[0mself\u001b[0m\u001b[0;34m.\u001b[0m\u001b[0mvalue\u001b[0m \u001b[0;34m<\u001b[0m \u001b[0mvalue\u001b[0m \u001b[0;32melse\u001b[0m \u001b[0mself\u001b[0m\u001b[0;34m.\u001b[0m\u001b[0mleft\u001b[0m\u001b[0;34m\u001b[0m\u001b[0;34m\u001b[0m\u001b[0m\n\u001b[0;32m---> 21\u001b[0;31m         \u001b[0;32mreturn\u001b[0m \u001b[0mnext_node\u001b[0m\u001b[0;34m.\u001b[0m\u001b[0minsert\u001b[0m\u001b[0;34m(\u001b[0m\u001b[0mvalue\u001b[0m\u001b[0;34m)\u001b[0m\u001b[0;34m\u001b[0m\u001b[0;34m\u001b[0m\u001b[0m\n\u001b[0m\u001b[1;32m     22\u001b[0m \u001b[0;34m\u001b[0m\u001b[0m\n\u001b[1;32m     23\u001b[0m     \u001b[0;32mdef\u001b[0m \u001b[0mis_root\u001b[0m\u001b[0;34m(\u001b[0m\u001b[0mself\u001b[0m\u001b[0;34m)\u001b[0m \u001b[0;34m->\u001b[0m \u001b[0mbool\u001b[0m\u001b[0;34m:\u001b[0m\u001b[0;34m\u001b[0m\u001b[0;34m\u001b[0m\u001b[0m\n",
      "\u001b[0;32m<ipython-input-186-cc27dc73b5c4>\u001b[0m in \u001b[0;36minsert\u001b[0;34m(self, value)\u001b[0m\n\u001b[1;32m     10\u001b[0m         \u001b[0mnew_node\u001b[0m \u001b[0;34m=\u001b[0m \u001b[0mself\u001b[0m\u001b[0;34m.\u001b[0m\u001b[0m_insert\u001b[0m\u001b[0;34m(\u001b[0m\u001b[0mvalue\u001b[0m\u001b[0;34m)\u001b[0m\u001b[0;34m\u001b[0m\u001b[0;34m\u001b[0m\u001b[0m\n\u001b[1;32m     11\u001b[0m         \u001b[0mnew_node\u001b[0m\u001b[0;34m.\u001b[0m\u001b[0mcolor\u001b[0m \u001b[0;34m=\u001b[0m \u001b[0;34m'red'\u001b[0m\u001b[0;34m\u001b[0m\u001b[0;34m\u001b[0m\u001b[0m\n\u001b[0;32m---> 12\u001b[0;31m         \u001b[0mnew_node\u001b[0m\u001b[0;34m.\u001b[0m\u001b[0mbalance\u001b[0m\u001b[0;34m(\u001b[0m\u001b[0;34m)\u001b[0m\u001b[0;34m\u001b[0m\u001b[0;34m\u001b[0m\u001b[0m\n\u001b[0m\u001b[1;32m     13\u001b[0m         \u001b[0;32mreturn\u001b[0m \u001b[0mnew_node\u001b[0m\u001b[0;34m\u001b[0m\u001b[0;34m\u001b[0m\u001b[0m\n\u001b[1;32m     14\u001b[0m \u001b[0;34m\u001b[0m\u001b[0m\n",
      "\u001b[0;32m<ipython-input-186-cc27dc73b5c4>\u001b[0m in \u001b[0;36mbalance\u001b[0;34m(self)\u001b[0m\n\u001b[1;32m     33\u001b[0m             \u001b[0;32mreturn\u001b[0m\u001b[0;34m\u001b[0m\u001b[0;34m\u001b[0m\u001b[0m\n\u001b[1;32m     34\u001b[0m \u001b[0;34m\u001b[0m\u001b[0m\n\u001b[0;32m---> 35\u001b[0;31m         \u001b[0;32mif\u001b[0m \u001b[0;32mnot\u001b[0m \u001b[0;34m(\u001b[0m\u001b[0mself\u001b[0m\u001b[0;34m.\u001b[0m\u001b[0mcolor\u001b[0m \u001b[0;34m==\u001b[0m \u001b[0mself\u001b[0m\u001b[0;34m.\u001b[0m\u001b[0mparent\u001b[0m\u001b[0;34m.\u001b[0m\u001b[0mcolor\u001b[0m \u001b[0;34m==\u001b[0m \u001b[0;34m'red'\u001b[0m\u001b[0;34m)\u001b[0m\u001b[0;34m:\u001b[0m\u001b[0;34m\u001b[0m\u001b[0;34m\u001b[0m\u001b[0m\n\u001b[0m\u001b[1;32m     36\u001b[0m             \u001b[0;32mreturn\u001b[0m\u001b[0;34m\u001b[0m\u001b[0;34m\u001b[0m\u001b[0m\n\u001b[1;32m     37\u001b[0m \u001b[0;34m\u001b[0m\u001b[0m\n",
      "\u001b[0;31mAttributeError\u001b[0m: 'BSTNode' object has no attribute 'color'"
     ]
    }
   ],
   "source": [
    "for i in range(15):\n",
    "    tree.insert(random.randint(0, 10000))"
   ]
  },
  {
   "cell_type": "code",
   "execution_count": 202,
   "metadata": {},
   "outputs": [],
   "source": [
    "def _get_data_to_plot(node, x, y, max_y):\n",
    "    links = []\n",
    "    points = []\n",
    "    \n",
    "    points.append(((x, y), node.color, node.value))\n",
    "    \n",
    "    space = 2**(max_y - abs(y))\n",
    "    \n",
    "    if node.left is not None:\n",
    "        left_y = y-1 if node.left.color == 'red' else y-1\n",
    "        _links, _points = _get_data_to_plot(node.left, x-space, left_y, max_y)\n",
    "        links.append((((x, y), (x-space, left_y)), node.left.color))\n",
    "        \n",
    "        links += _links\n",
    "        points += _points\n",
    "        \n",
    "    if node.right is not None:\n",
    "        right_y = y-1 if node.right.color == 'red' else y-1\n",
    "        _links, _points = _get_data_to_plot(node.right, x+space, right_y, max_y)\n",
    "        links.append((((x, y), (x+space, right_y)), node.right.color))\n",
    "        \n",
    "        links += _links\n",
    "        points += _points\n",
    "        \n",
    "    return links, points"
   ]
  },
  {
   "cell_type": "code",
   "execution_count": 203,
   "metadata": {},
   "outputs": [
    {
     "ename": "AttributeError",
     "evalue": "'BSTNode' object has no attribute 'color'",
     "output_type": "error",
     "traceback": [
      "\u001b[0;31m---------------------------------------------------------------------------\u001b[0m",
      "\u001b[0;31mAttributeError\u001b[0m                            Traceback (most recent call last)",
      "\u001b[0;32m<ipython-input-203-5e0c4713d4a5>\u001b[0m in \u001b[0;36m<module>\u001b[0;34m\u001b[0m\n\u001b[1;32m      1\u001b[0m \u001b[0mfig\u001b[0m\u001b[0;34m,\u001b[0m \u001b[0max\u001b[0m \u001b[0;34m=\u001b[0m \u001b[0mplt\u001b[0m\u001b[0;34m.\u001b[0m\u001b[0msubplots\u001b[0m\u001b[0;34m(\u001b[0m\u001b[0mfigsize\u001b[0m\u001b[0;34m=\u001b[0m\u001b[0;34m(\u001b[0m\u001b[0;36m25\u001b[0m\u001b[0;34m,\u001b[0m \u001b[0;36m7\u001b[0m\u001b[0;34m)\u001b[0m\u001b[0;34m)\u001b[0m\u001b[0;34m\u001b[0m\u001b[0;34m\u001b[0m\u001b[0m\n\u001b[1;32m      2\u001b[0m \u001b[0;34m\u001b[0m\u001b[0m\n\u001b[0;32m----> 3\u001b[0;31m \u001b[0mlinks\u001b[0m\u001b[0;34m,\u001b[0m \u001b[0mpoints\u001b[0m \u001b[0;34m=\u001b[0m \u001b[0m_get_data_to_plot\u001b[0m\u001b[0;34m(\u001b[0m\u001b[0mtree\u001b[0m\u001b[0;34m,\u001b[0m \u001b[0;36m0\u001b[0m\u001b[0;34m,\u001b[0m \u001b[0;36m0\u001b[0m\u001b[0;34m,\u001b[0m \u001b[0mtree\u001b[0m\u001b[0;34m.\u001b[0m\u001b[0mheight\u001b[0m\u001b[0;34m(\u001b[0m\u001b[0;34m)\u001b[0m\u001b[0;34m)\u001b[0m\u001b[0;34m\u001b[0m\u001b[0;34m\u001b[0m\u001b[0m\n\u001b[0m\u001b[1;32m      4\u001b[0m \u001b[0;34m\u001b[0m\u001b[0m\n\u001b[1;32m      5\u001b[0m \u001b[0;32mfor\u001b[0m \u001b[0mlink\u001b[0m\u001b[0;34m,\u001b[0m \u001b[0mcolor\u001b[0m \u001b[0;32min\u001b[0m \u001b[0mlinks\u001b[0m\u001b[0;34m:\u001b[0m\u001b[0;34m\u001b[0m\u001b[0;34m\u001b[0m\u001b[0m\n",
      "\u001b[0;32m<ipython-input-202-3d00698ea416>\u001b[0m in \u001b[0;36m_get_data_to_plot\u001b[0;34m(node, x, y, max_y)\u001b[0m\n\u001b[1;32m      3\u001b[0m     \u001b[0mpoints\u001b[0m \u001b[0;34m=\u001b[0m \u001b[0;34m[\u001b[0m\u001b[0;34m]\u001b[0m\u001b[0;34m\u001b[0m\u001b[0;34m\u001b[0m\u001b[0m\n\u001b[1;32m      4\u001b[0m \u001b[0;34m\u001b[0m\u001b[0m\n\u001b[0;32m----> 5\u001b[0;31m     \u001b[0mpoints\u001b[0m\u001b[0;34m.\u001b[0m\u001b[0mappend\u001b[0m\u001b[0;34m(\u001b[0m\u001b[0;34m(\u001b[0m\u001b[0;34m(\u001b[0m\u001b[0mx\u001b[0m\u001b[0;34m,\u001b[0m \u001b[0my\u001b[0m\u001b[0;34m)\u001b[0m\u001b[0;34m,\u001b[0m \u001b[0mnode\u001b[0m\u001b[0;34m.\u001b[0m\u001b[0mcolor\u001b[0m\u001b[0;34m,\u001b[0m \u001b[0mnode\u001b[0m\u001b[0;34m.\u001b[0m\u001b[0mvalue\u001b[0m\u001b[0;34m)\u001b[0m\u001b[0;34m)\u001b[0m\u001b[0;34m\u001b[0m\u001b[0;34m\u001b[0m\u001b[0m\n\u001b[0m\u001b[1;32m      6\u001b[0m \u001b[0;34m\u001b[0m\u001b[0m\n\u001b[1;32m      7\u001b[0m     \u001b[0mspace\u001b[0m \u001b[0;34m=\u001b[0m \u001b[0;36m2\u001b[0m\u001b[0;34m**\u001b[0m\u001b[0;34m(\u001b[0m\u001b[0mmax_y\u001b[0m \u001b[0;34m-\u001b[0m \u001b[0mabs\u001b[0m\u001b[0;34m(\u001b[0m\u001b[0my\u001b[0m\u001b[0;34m)\u001b[0m\u001b[0;34m)\u001b[0m\u001b[0;34m\u001b[0m\u001b[0;34m\u001b[0m\u001b[0m\n",
      "\u001b[0;31mAttributeError\u001b[0m: 'BSTNode' object has no attribute 'color'"
     ]
    },
    {
     "data": {
      "image/png": "[encoded data removed]",
      "text/plain": [
       "<Figure size 1800x504 with 1 Axes>"
      ]
     },
     "metadata": {
      "needs_background": "light"
     },
     "output_type": "display_data"
    }
   ],
   "source": [
    "fig, ax = plt.subplots(figsize=(25, 7))\n",
    "\n",
    "links, points = _get_data_to_plot(tree, 0, 0, tree.height())\n",
    "\n",
    "for link, color in links:\n",
    "    ax.plot(*zip(*link), color=color, lw=1, zorder=1)\n",
    "\n",
    "points_coords, points_colors, points_values = tuple(zip(*points))\n",
    "ax.scatter(*zip(*points_coords),\n",
    "           s=30, color=points_colors, zorder=2, edgecolor='black')\n",
    "\n",
    "for xy, value in zip(points_coords, points_values):\n",
    "    ax.annotate(value, (xy[0] + 0.1, xy[1] + 0.1))"
   ]
  },
  {
   "cell_type": "code",
   "execution_count": null,
   "metadata": {},
   "outputs": [],
   "source": []
  }
 ],
 "metadata": {
  "kernelspec": {
   "display_name": "Python 3",
   "language": "python",
   "name": "python3"
  },
  "language_info": {
   "codemirror_mode": {
    "name": "ipython",
    "version": 3
   },
   "file_extension": ".py",
   "mimetype": "text/x-python",
   "name": "python",
   "nbconvert_exporter": "python",
   "pygments_lexer": "ipython3",
   "version": "3.7.5"
  }
 },
 "nbformat": 4,
 "nbformat_minor": 2
}
